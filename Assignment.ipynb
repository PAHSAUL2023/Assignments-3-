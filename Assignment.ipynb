{
 "cells": [
  {
   "cell_type": "code",
   "execution_count": null,
   "id": "4d56823f-47c0-4755-b238-833fd48dac7b",
   "metadata": {},
   "outputs": [],
   "source": [
    "Q1=(\" We can comment in the payhton  by giving the hash (#)  in order to sepearte the line as comment\" )"
   ]
  },
  {
   "cell_type": "code",
   "execution_count": null,
   "id": "202c27ec-6feb-4d04-b089-69b99253cee0",
   "metadata": {},
   "outputs": [],
   "source": [
    "Q2.= There is no such no of counting of variable ,we can take any varible . if we want to assign any thing to varible , we have to put the varible and no separated by the =.\n",
    "exmpale \n",
    "a= 10"
   ]
  },
  {
   "cell_type": "code",
   "execution_count": null,
   "id": "bbb1f95e-07e0-48b5-80ea-02f310bb0c44",
   "metadata": {},
   "outputs": [],
   "source": [
    "Q3.WE can covert any type of data to our desirable type by type casting of data . \n"
   ]
  },
  {
   "cell_type": "code",
   "execution_count": null,
   "id": "3b863cd0-a5f8-4919-b7fb-9f645cf8302d",
   "metadata": {},
   "outputs": [],
   "source": [
    "Q4.I DON'T KNOW KNOW "
   ]
  },
  {
   "cell_type": "code",
   "execution_count": 8,
   "id": "1eda6737-2d24-4aa5-b84c-8881f09437cb",
   "metadata": {},
   "outputs": [],
   "source": [
    "Q5\n",
    "my_list=[1,2,3,4,5]"
   ]
  },
  {
   "cell_type": "code",
   "execution_count": 10,
   "id": "80fce3f7-6b42-430e-bb77-9cf61ed16311",
   "metadata": {},
   "outputs": [
    {
     "data": {
      "text/plain": [
       "[2, 3]"
      ]
     },
     "execution_count": 10,
     "metadata": {},
     "output_type": "execute_result"
    }
   ],
   "source": [
    "my_list[1:3]"
   ]
  },
  {
   "cell_type": "code",
   "execution_count": null,
   "id": "8598ff1f-8049-4e0d-8e7b-e9331e6ceb53",
   "metadata": {},
   "outputs": [],
   "source": [
    "Q6. Complex number is nothing but the combination of real and imaginary number represented by a+2i.\n",
    "but in the paython it is represted by the  in the form of \"number+3j\"."
   ]
  },
  {
   "cell_type": "code",
   "execution_count": 11,
   "id": "6d5f6b84-0973-486e-9ca4-c7dd222bb47d",
   "metadata": {},
   "outputs": [],
   "source": [
    "Q7\n",
    "AGED = 25"
   ]
  },
  {
   "cell_type": "code",
   "execution_count": 12,
   "id": "1f2d20cc-e961-424d-8e2b-b0bc57b62730",
   "metadata": {},
   "outputs": [
    {
     "data": {
      "text/plain": [
       "25"
      ]
     },
     "execution_count": 12,
     "metadata": {},
     "output_type": "execute_result"
    }
   ],
   "source": [
    "AGED"
   ]
  },
  {
   "cell_type": "code",
   "execution_count": 13,
   "id": "979f9ee4-e99d-4925-9fb4-5138298c7700",
   "metadata": {},
   "outputs": [],
   "source": [
    "Q8.\n",
    "\n",
    "\n",
    "price= 9.99"
   ]
  },
  {
   "cell_type": "code",
   "execution_count": 14,
   "id": "eb231559-b6b4-4790-9f8b-127582b8e578",
   "metadata": {},
   "outputs": [
    {
     "data": {
      "text/plain": [
       "float"
      ]
     },
     "execution_count": 14,
     "metadata": {},
     "output_type": "execute_result"
    }
   ],
   "source": [
    "type(price)"
   ]
  },
  {
   "cell_type": "code",
   "execution_count": null,
   "id": "eeb26ae6-73ef-44ca-91c0-fc71762eb5dc",
   "metadata": {},
   "outputs": [],
   "source": [
    "if \n",
    "name= (\"amit kumar prasad\") :\n",
    "    print(name)"
   ]
  },
  {
   "cell_type": "code",
   "execution_count": null,
   "id": "503c5894-d346-4b2d-b7e6-f55e1670bf58",
   "metadata": {},
   "outputs": [],
   "source": []
  },
  {
   "cell_type": "code",
   "execution_count": null,
   "id": "b77996a8-6ac5-4f24-8f18-b2f44d703a36",
   "metadata": {},
   "outputs": [],
   "source": []
  }
 ],
 "metadata": {
  "kernelspec": {
   "display_name": "Python 3 (ipykernel)",
   "language": "python",
   "name": "python3"
  },
  "language_info": {
   "codemirror_mode": {
    "name": "ipython",
    "version": 3
   },
   "file_extension": ".py",
   "mimetype": "text/x-python",
   "name": "python",
   "nbconvert_exporter": "python",
   "pygments_lexer": "ipython3",
   "version": "3.10.8"
  }
 },
 "nbformat": 4,
 "nbformat_minor": 5
}
